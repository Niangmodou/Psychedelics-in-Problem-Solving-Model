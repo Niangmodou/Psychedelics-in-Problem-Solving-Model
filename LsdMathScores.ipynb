{
  "nbformat": 4,
  "nbformat_minor": 0,
  "metadata": {
    "colab": {
      "name": "LsdMathScores.ipynb",
      "provenance": []
    },
    "kernelspec": {
      "name": "python3",
      "display_name": "Python 3"
    }
  },
  "cells": [
    {
      "cell_type": "code",
      "metadata": {
        "id": "DXAAaXkjo3-w",
        "colab_type": "code",
        "colab": {}
      },
      "source": [
        "import pandas as pd\n",
        "import matplotlib.pyplot as plt\n",
        "from sklearn.linear_model import LinearRegression\n",
        "%matplotlib inline"
      ],
      "execution_count": 0,
      "outputs": []
    },
    {
      "cell_type": "code",
      "metadata": {
        "id": "opEbUlEunr5_",
        "colab_type": "code",
        "colab": {
          "base_uri": "https://localhost:8080/",
          "height": 34
        },
        "outputId": "e644d6d2-7695-4805-c199-4e53c2d8ec55"
      },
      "source": [
        "from google.colab import drive\n",
        "drive.mount('/content/drive')"
      ],
      "execution_count": 32,
      "outputs": [
        {
          "output_type": "stream",
          "text": [
            "Drive already mounted at /content/drive; to attempt to forcibly remount, call drive.mount(\"/content/drive\", force_remount=True).\n"
          ],
          "name": "stdout"
        }
      ]
    },
    {
      "cell_type": "markdown",
      "metadata": {
        "id": "crfbmulTp8_r",
        "colab_type": "text"
      },
      "source": [
        "# Obtaining the data"
      ]
    },
    {
      "cell_type": "code",
      "metadata": {
        "id": "E2-8630LoXUW",
        "colab_type": "code",
        "colab": {}
      },
      "source": [
        "PATH = \"/content/drive/My Drive/Colab Notebooks/LSD Math Scores Linear Regression/lsd-math-score-data.csv\"\n",
        "data = pd.read_csv(PATH)"
      ],
      "execution_count": 0,
      "outputs": []
    },
    {
      "cell_type": "code",
      "metadata": {
        "id": "ByZ3ZeYypFcX",
        "colab_type": "code",
        "colab": {
          "base_uri": "https://localhost:8080/",
          "height": 153
        },
        "outputId": "d713bb47-4ac2-4ff7-d2d7-079217769ee9"
      },
      "source": [
        "print(data)"
      ],
      "execution_count": 34,
      "outputs": [
        {
          "output_type": "stream",
          "text": [
            "   Time_Delay_in_Minutes  LSD_ppm  Avg_Math_Test_Score\n",
            "0                      5     1.17                78.93\n",
            "1                     15     2.97                58.20\n",
            "2                     30     3.26                67.47\n",
            "3                     60     4.69                37.47\n",
            "4                    120     5.83                45.65\n",
            "5                    240     6.00                32.92\n",
            "6                    480     6.41                29.97\n"
          ],
          "name": "stdout"
        }
      ]
    },
    {
      "cell_type": "code",
      "metadata": {
        "id": "SVpJ7wPppHRZ",
        "colab_type": "code",
        "colab": {}
      },
      "source": [
        "time = data[\"Time_Delay_in_Minutes\"]\n",
        "lsd = data[\"LSD_ppm\"]\n",
        "avgScore = data[\"Avg_Math_Test_Score\"]"
      ],
      "execution_count": 0,
      "outputs": []
    },
    {
      "cell_type": "markdown",
      "metadata": {
        "id": "dVJOHBGbp3wm",
        "colab_type": "text"
      },
      "source": [
        "# Visualizing the Data "
      ]
    },
    {
      "cell_type": "code",
      "metadata": {
        "id": "nxqR9RhVqLFh",
        "colab_type": "code",
        "colab": {
          "base_uri": "https://localhost:8080/",
          "height": 416
        },
        "outputId": "35d977f4-7401-4813-e5f7-69bd9df52301"
      },
      "source": [
        "plt.figure(figsize=(10,6))\n",
        "plt.title(\"Concentration of LSD over time\",fontsize = 18)\n",
        "plt.xlabel(\"Time(minutes)\",fontsize = 14)\n",
        "plt.ylabel(\"LSD ppm\",fontsize = 14)\n",
        "plt.xticks(fontsize=14)\n",
        "plt.yticks(fontsize=14)\n",
        "plt.xlim(0,500)\n",
        "plt.ylim(1,7)\n",
        "plt.plot(time,lsd,linewidth=3)\n",
        "plt.show()"
      ],
      "execution_count": 36,
      "outputs": [
        {
          "output_type": "display_data",
          "data": {
            "image/png": "[encoded data removed]",
            "text/plain": [
              "<Figure size 720x432 with 1 Axes>"
            ]
          },
          "metadata": {
            "tags": []
          }
        }
      ]
    },
    {
      "cell_type": "markdown",
      "metadata": {
        "id": "1wp2T9hPt8EG",
        "colab_type": "text"
      },
      "source": [
        "# Evaluating Data using Linear Regression\n",
        "\n"
      ]
    },
    {
      "cell_type": "code",
      "metadata": {
        "id": "viisY86usVmo",
        "colab_type": "code",
        "colab": {}
      },
      "source": [
        "feature = pd.DataFrame(lsd)\n",
        "target = pd.DataFrame(avgScore)"
      ],
      "execution_count": 0,
      "outputs": []
    },
    {
      "cell_type": "code",
      "metadata": {
        "id": "X-VOf_squVjC",
        "colab_type": "code",
        "colab": {
          "base_uri": "https://localhost:8080/",
          "height": 34
        },
        "outputId": "aa57c25f-7003-47b0-9e5e-e8add32f5584"
      },
      "source": [
        "regressor = LinearRegression()\n",
        "regressor.fit(feature,target)"
      ],
      "execution_count": 45,
      "outputs": [
        {
          "output_type": "execute_result",
          "data": {
            "text/plain": [
              "LinearRegression(copy_X=True, fit_intercept=True, n_jobs=None, normalize=False)"
            ]
          },
          "metadata": {
            "tags": []
          },
          "execution_count": 45
        }
      ]
    },
    {
      "cell_type": "markdown",
      "metadata": {
        "id": "_Q2UV2mDwaET",
        "colab_type": "text"
      },
      "source": [
        "Slope Coefficient and Intercept"
      ]
    },
    {
      "cell_type": "code",
      "metadata": {
        "id": "knXdSN1QwX_G",
        "colab_type": "code",
        "colab": {
          "base_uri": "https://localhost:8080/",
          "height": 34
        },
        "outputId": "5e489013-ef07-4df0-f0d0-71cbb0c171be"
      },
      "source": [
        "coeff = regressor.coef_[0][0]\n",
        "print(\"Slope Coefficeint: \", coeff)"
      ],
      "execution_count": 50,
      "outputs": [
        {
          "output_type": "stream",
          "text": [
            "Slope Coefficeint:  -9.009466415296782\n"
          ],
          "name": "stdout"
        }
      ]
    },
    {
      "cell_type": "code",
      "metadata": {
        "id": "-jLQJCWOwz-r",
        "colab_type": "code",
        "colab": {
          "base_uri": "https://localhost:8080/",
          "height": 34
        },
        "outputId": "6a9cc05b-ca87-4804-8333-fa07a8d4e8ec"
      },
      "source": [
        "intercept = regressor.intercept_[0]\n",
        "print(\"Y-Intercept:\", intercept)"
      ],
      "execution_count": 52,
      "outputs": [
        {
          "output_type": "stream",
          "text": [
            "Y-Intercept: 89.12387376799305\n"
          ],
          "name": "stdout"
        }
      ]
    },
    {
      "cell_type": "markdown",
      "metadata": {
        "id": "doL-3eGUxQPi",
        "colab_type": "text"
      },
      "source": [
        "# Plotting the Line of Best Fit"
      ]
    },
    {
      "cell_type": "code",
      "metadata": {
        "id": "P_3Utp8qxRyA",
        "colab_type": "code",
        "colab": {
          "base_uri": "https://localhost:8080/",
          "height": 416
        },
        "outputId": "74f10a8f-bb85-4a54-d2b5-181a78a55224"
      },
      "source": [
        "plt.figure(figsize=(10,6))\n",
        "plt.scatter(feature,target,alpha=0.5)\n",
        "plt.plot(feature,regressor.predict(feature), color=\"red\",linewidth=2)\n",
        "plt.title(\"LSD Concentration and Average Math Scores\",fontsize=18)\n",
        "plt.xlabel(\"Average Math Scores\",fontsize=14)\n",
        "plt.ylabel(\"LSD Concentration\",fontsize=14)\n",
        "plt.xticks(fontsize=14)\n",
        "plt.yticks(fontsize=14)\n",
        "plt.show()"
      ],
      "execution_count": 64,
      "outputs": [
        {
          "output_type": "display_data",
          "data": {
            "image/png": "[encoded data removed]",
            "text/plain": [
              "<Figure size 720x432 with 1 Axes>"
            ]
          },
          "metadata": {
            "tags": []
          }
        }
      ]
    },
    {
      "cell_type": "markdown",
      "metadata": {
        "id": "fBZraNOhxxI4",
        "colab_type": "text"
      },
      "source": [
        "# Evaluating The Model's Performace"
      ]
    },
    {
      "cell_type": "code",
      "metadata": {
        "id": "U-t_u2D3x3bt",
        "colab_type": "code",
        "colab": {
          "base_uri": "https://localhost:8080/",
          "height": 34
        },
        "outputId": "ce4640b6-0a3a-4d29-eea0-e7af17abd4c1"
      },
      "source": [
        "rSquared = regressor.score(feature,target) * 100\n",
        "print(\"R Squared: \",rSquared)"
      ],
      "execution_count": 53,
      "outputs": [
        {
          "output_type": "stream",
          "text": [
            "R Squared:  87.78349707775888\n"
          ],
          "name": "stdout"
        }
      ]
    }
  ]
}